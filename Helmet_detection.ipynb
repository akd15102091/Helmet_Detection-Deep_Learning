{
 "cells": [
  {
   "cell_type": "code",
   "execution_count": 6,
   "metadata": {},
   "outputs": [],
   "source": [
    "import numpy as np\n",
    "from matplotlib import pyplot as plt\n",
    "import os\n",
    "import cv2\n",
    "import random\n",
    "from tensorflow.keras.models import Sequential\n",
    "from tensorflow.keras.layers import Dense, Dropout, Flatten, Conv2D, MaxPooling2D, BatchNormalization\n",
    "from tensorflow.keras.optimizers import RMSprop"
   ]
  },
  {
   "cell_type": "code",
   "execution_count": 7,
   "metadata": {},
   "outputs": [],
   "source": [
    "DATADIR = 'images'\n",
    "CLASS = ['With_Helmet','Without_Helmet']\n",
    "IMG_SIZE = 50\n",
    "\n",
    "with_helmet = []\n",
    "without_helmet = []\n",
    "\n",
    "# building the training data\n",
    "def create_training_data(): \n",
    "    \n",
    "    for cl in CLASS:\n",
    "        path = os.path.join(DATADIR, cl)\n",
    "        class_num = CLASS.index(cl)\n",
    "        if class_num == 0:\n",
    "            for img in os.listdir(path):\n",
    "                try:\n",
    "                    img_array = cv2.imread(os.path.join(path, img))\n",
    "                    img_array = cv2.resize(img_array, (IMG_SIZE, IMG_SIZE))\n",
    "                    gray_img = cv2.cvtColor(img_array, cv2.COLOR_BGR2GRAY)\n",
    "                    with_helmet.append([gray_img, class_num])\n",
    "                except Exception as e:\n",
    "                    pass\n",
    "        if class_num == 1:\n",
    "            \n",
    "            for img in os.listdir(path):\n",
    "                try:\n",
    "                    \n",
    "                    img_array = cv2.imread(os.path.join(path, img))\n",
    "                    img_array = cv2.resize(img_array, (IMG_SIZE, IMG_SIZE))\n",
    "                    gray_img = cv2.cvtColor(img_array, cv2.COLOR_BGR2GRAY)\n",
    "                    without_helmet.append([gray_img, class_num])\n",
    "                except Exception as e:\n",
    "                    pass\n",
    "    random.shuffle(with_helmet)\n",
    "    random.shuffle(without_helmet)\n",
    "    training_data = with_helmet[:len(without_helmet)]+without_helmet\n",
    "    return training_data\n",
    "\n",
    "training_data = create_training_data()"
   ]
  },
  {
   "cell_type": "code",
   "execution_count": 8,
   "metadata": {},
   "outputs": [
    {
     "name": "stdout",
     "output_type": "stream",
     "text": [
      "5508\n"
     ]
    }
   ],
   "source": [
    "#shuffle the data\n",
    "random.shuffle(training_data)\n",
    "print(len(training_data))"
   ]
  },
  {
   "cell_type": "code",
   "execution_count": 9,
   "metadata": {},
   "outputs": [],
   "source": [
    "X = []\n",
    "y = []\n",
    "\n",
    "for features, label in training_data:\n",
    "    X.append(features)\n",
    "    y.append(label)"
   ]
  },
  {
   "cell_type": "code",
   "execution_count": 10,
   "metadata": {},
   "outputs": [],
   "source": [
    "X = np.array(X).reshape(-1, IMG_SIZE, IMG_SIZE, 1)\n",
    "y = np.array(y)"
   ]
  },
  {
   "cell_type": "code",
   "execution_count": 11,
   "metadata": {},
   "outputs": [],
   "source": [
    "# normalizing the data\n",
    "X = X/255.0\n"
   ]
  },
  {
   "cell_type": "code",
   "execution_count": 12,
   "metadata": {},
   "outputs": [],
   "source": [
    "# building the model\n",
    "model = Sequential()\n",
    "\n",
    "model.add(Conv2D(32, kernel_size=(3, 3), activation='relu', input_shape=X.shape[1:], data_format='channels_last',))\n",
    "model.add(BatchNormalization())\n",
    "model.add(MaxPooling2D(pool_size=(2, 2), strides=(2, 2)))\n",
    "\n",
    "model.add(Conv2D(64, kernel_size=(3, 3), activation='relu', padding='same'))\n",
    "model.add(BatchNormalization())\n",
    "model.add(MaxPooling2D(pool_size=(2, 2), strides=(2, 2)))\n",
    "\n",
    "model.add(Conv2D(128, kernel_size=(3, 3), activation='relu', padding='same'))\n",
    "model.add(BatchNormalization())\n",
    "model.add(MaxPooling2D(pool_size=(2, 2), strides=(2, 2)))\n",
    "\n",
    "model.add(Conv2D(256, kernel_size=(3, 3), activation='relu', padding='same'))\n",
    "model.add(BatchNormalization())\n",
    "model.add(MaxPooling2D(pool_size=(2, 2), strides=(2, 2)))\n",
    "\n",
    "model.add(Flatten())\n",
    "\n",
    "model.add(Dense(256, activation='relu'))\n",
    "model.add(Dense(128, activation='relu'))\n",
    "model.add(Dense(64, activation='relu'))\n",
    "\n",
    "model.add(Dense(1, activation='sigmoid'))\n",
    "\n",
    "model.compile(loss='binary_crossentropy', optimizer='adam',metrics=['accuracy'])"
   ]
  },
  {
   "cell_type": "code",
   "execution_count": 13,
   "metadata": {},
   "outputs": [
    {
     "name": "stdout",
     "output_type": "stream",
     "text": [
      "Epoch 1/15\n",
      "138/138 [==============================] - 20s 140ms/step - loss: 0.7670 - accuracy: 0.5507 - val_loss: 0.7947 - val_accuracy: 0.5018\n",
      "Epoch 2/15\n",
      "138/138 [==============================] - 17s 121ms/step - loss: 0.5811 - accuracy: 0.6881 - val_loss: 0.9517 - val_accuracy: 0.5445\n",
      "Epoch 3/15\n",
      "138/138 [==============================] - 16s 119ms/step - loss: 0.5140 - accuracy: 0.7463 - val_loss: 0.9465 - val_accuracy: 0.5581\n",
      "Epoch 4/15\n",
      "138/138 [==============================] - 15s 112ms/step - loss: 0.4544 - accuracy: 0.7929 - val_loss: 1.0157 - val_accuracy: 0.5935\n",
      "Epoch 5/15\n",
      "138/138 [==============================] - 16s 113ms/step - loss: 0.3294 - accuracy: 0.8578 - val_loss: 0.9000 - val_accuracy: 0.6561\n",
      "Epoch 6/15\n",
      "138/138 [==============================] - 15s 112ms/step - loss: 0.2496 - accuracy: 0.8947 - val_loss: 0.5313 - val_accuracy: 0.7877\n",
      "Epoch 7/15\n",
      "138/138 [==============================] - 15s 110ms/step - loss: 0.1595 - accuracy: 0.9419 - val_loss: 0.4546 - val_accuracy: 0.8276\n",
      "Epoch 8/15\n",
      "138/138 [==============================] - 16s 114ms/step - loss: 0.1152 - accuracy: 0.9557 - val_loss: 0.6555 - val_accuracy: 0.7985\n",
      "Epoch 9/15\n",
      "138/138 [==============================] - 16s 113ms/step - loss: 0.0851 - accuracy: 0.9680 - val_loss: 0.7305 - val_accuracy: 0.7659\n",
      "Epoch 10/15\n",
      "138/138 [==============================] - 16s 115ms/step - loss: 0.0598 - accuracy: 0.9764 - val_loss: 0.4152 - val_accuracy: 0.8929\n",
      "Epoch 11/15\n",
      "138/138 [==============================] - 15s 110ms/step - loss: 0.0478 - accuracy: 0.9827 - val_loss: 0.7696 - val_accuracy: 0.8194\n",
      "Epoch 12/15\n",
      "138/138 [==============================] - 16s 119ms/step - loss: 0.0813 - accuracy: 0.9705 - val_loss: 0.8244 - val_accuracy: 0.7414\n",
      "Epoch 13/15\n",
      "138/138 [==============================] - 16s 115ms/step - loss: 0.0459 - accuracy: 0.9840 - val_loss: 0.9761 - val_accuracy: 0.7813\n",
      "Epoch 14/15\n",
      "138/138 [==============================] - 16s 119ms/step - loss: 0.0656 - accuracy: 0.9778 - val_loss: 0.5303 - val_accuracy: 0.8485\n",
      "Epoch 15/15\n",
      "138/138 [==============================] - 15s 111ms/step - loss: 0.0245 - accuracy: 0.9898 - val_loss: 0.3617 - val_accuracy: 0.9002\n"
     ]
    }
   ],
   "source": [
    "history = model.fit(X, y, batch_size=32, validation_split=0.2, epochs=15)\n"
   ]
  },
  {
   "cell_type": "code",
   "execution_count": 14,
   "metadata": {},
   "outputs": [],
   "source": [
    "\n",
    "from tensorflow.keras.models import load_model\n",
    "\n",
    "model.save('helmet_detect_model.h5')"
   ]
  },
  {
   "cell_type": "code",
   "execution_count": 15,
   "metadata": {},
   "outputs": [],
   "source": [
    "from tensorflow.keras.preprocessing.image import  load_img\n",
    "from tensorflow.keras.preprocessing import image "
   ]
  },
  {
   "cell_type": "code",
   "execution_count": 16,
   "metadata": {},
   "outputs": [
    {
     "data": {
      "text/plain": [
       "array([[2.130273e-06]], dtype=float32)"
      ]
     },
     "execution_count": 16,
     "metadata": {},
     "output_type": "execute_result"
    }
   ],
   "source": [
    "pic2_array = cv2.imread(\"images/With_Helmet/BikesHelmets_0_27.jpeg\", cv2.IMREAD_GRAYSCALE)\n",
    "new_array2 = cv2.resize(pic2_array,(IMG_SIZE,IMG_SIZE))\n",
    "\n",
    "img2_batch = np.expand_dims(new_array2, axis=0)\n",
    "uimg2 = np.resize(img2_batch,(1,50,50,1))\n",
    "\n",
    "uimg2 = uimg2/255.0\n",
    "pred2 = model.predict(uimg2)\n",
    "\n",
    "pred2"
   ]
  },
  {
   "cell_type": "code",
   "execution_count": 17,
   "metadata": {},
   "outputs": [
    {
     "data": {
      "text/plain": [
       "array([[0.999407]], dtype=float32)"
      ]
     },
     "execution_count": 17,
     "metadata": {},
     "output_type": "execute_result"
    }
   ],
   "source": [
    "pic2_array = cv2.imread(\"images/Without_Helmet/BikesHelmets_0_4.jpeg\", cv2.IMREAD_GRAYSCALE)\n",
    "new_array2 = cv2.resize(pic2_array,(IMG_SIZE,IMG_SIZE))\n",
    "\n",
    "img2_batch = np.expand_dims(new_array2, axis=0)\n",
    "uimg2 = np.resize(img2_batch,(1,50,50,1))\n",
    "\n",
    "uimg2 = uimg2/255.0\n",
    "pred2 = model.predict(uimg2)\n",
    "\n",
    "pred2"
   ]
  },
  {
   "cell_type": "code",
   "execution_count": 18,
   "metadata": {},
   "outputs": [
    {
     "name": "stdout",
     "output_type": "stream",
     "text": [
      "without helmet detected\n"
     ]
    }
   ],
   "source": [
    "\n",
    "if pred2>0.5 :\n",
    "    print(\"without helmet detected\")\n",
    "    \n",
    "else:\n",
    "    \n",
    "    print(\"with helmet detected\")"
   ]
  },
  {
   "cell_type": "code",
   "execution_count": 19,
   "metadata": {},
   "outputs": [
    {
     "data": {
      "image/png": "[encoded data removed]",
      "text/plain": [
       "<Figure size 432x288 with 1 Axes>"
      ]
     },
     "metadata": {
      "needs_background": "light"
     },
     "output_type": "display_data"
    },
    {
     "data": {
      "image/png": "[encoded data removed]",
      "text/plain": [
       "<Figure size 432x288 with 1 Axes>"
      ]
     },
     "metadata": {
      "needs_background": "light"
     },
     "output_type": "display_data"
    }
   ],
   "source": [
    "acc = history.history['accuracy']\n",
    "val_acc = history.history['val_accuracy']\n",
    "loss = history.history['loss']\n",
    "val_loss = history.history['val_loss']\n",
    "\n",
    "epochs = range(1, len(acc)+1)\n",
    "\n",
    "plt.plot(epochs, acc, label='Training acc')\n",
    "plt.plot(epochs, val_acc, label='Validation acc')\n",
    "plt.title('Training and validation accuracy')\n",
    "plt.xlabel('epochs')\n",
    "plt.ylabel('acc')\n",
    "plt.legend()\n",
    "\n",
    "plt.figure()\n",
    "\n",
    "plt.plot(epochs, loss, label='Training loss')\n",
    "plt.plot(epochs, val_loss, label='Validation loss')\n",
    "plt.title('Training and validation loss')\n",
    "plt.xlabel('epochs')\n",
    "plt.ylabel('loss')\n",
    "plt.legend()\n",
    "\n",
    "plt.show()"
   ]
  },
  {
   "cell_type": "code",
   "execution_count": null,
   "metadata": {},
   "outputs": [],
   "source": []
  }
 ],
 "metadata": {
  "kernelspec": {
   "display_name": "Python 3",
   "language": "python",
   "name": "python3"
  },
  "language_info": {
   "codemirror_mode": {
    "name": "ipython",
    "version": 3
   },
   "file_extension": ".py",
   "mimetype": "text/x-python",
   "name": "python",
   "nbconvert_exporter": "python",
   "pygments_lexer": "ipython3",
   "version": "3.8.5"
  }
 },
 "nbformat": 4,
 "nbformat_minor": 4
}

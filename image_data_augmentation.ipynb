{
 "cells": [
  {
   "cell_type": "markdown",
   "metadata": {},
   "source": [
    "## Data Augmentation using Python & Keras"
   ]
  },
  {
   "cell_type": "code",
   "execution_count": 1,
   "metadata": {},
   "outputs": [],
   "source": [
    "from keras.preprocessing.image import ImageDataGenerator, array_to_img, img_to_array, load_img"
   ]
  },
  {
   "cell_type": "code",
   "execution_count": 2,
   "metadata": {},
   "outputs": [],
   "source": [
    "datagen = ImageDataGenerator(\n",
    "            rotation_range=40,\n",
    "            width_shift_range=0.2,\n",
    "            height_shift_range=0.2,\n",
    "            shear_range=0.2,\n",
    "            zoom_range = 0.2,\n",
    "            horizontal_flip=True,\n",
    "            fill_mode=\"nearest\"\n",
    "            )\n"
   ]
  },
  {
   "cell_type": "code",
   "execution_count": 3,
   "metadata": {},
   "outputs": [],
   "source": [
    "import os"
   ]
  },
  {
   "cell_type": "code",
   "execution_count": 4,
   "metadata": {},
   "outputs": [],
   "source": [
    "train_dir_withHel =\"train/With_Helmet\"\n",
    "train_dir_withoutHel = \"train/Without_Helmet\"\n",
    "\n",
    "test_dir_withHel = \"test/With_Helmet\"\n",
    "test_dir_withoutHel = \"test/Without_Helmet\"\n",
    "\n",
    "final_train_dir_withHel = \"final_train/With_Helmet\"\n",
    "final_train_dir_withoutHel = \"final_train/Without_Helmet\"\n",
    "\n",
    "final_test_dir_withHel = \"final_test/With_Helmet\"\n",
    "final_test_dir_withoutHel = \"final_test/Without_Helmet\""
   ]
  },
  {
   "cell_type": "code",
   "execution_count": 5,
   "metadata": {},
   "outputs": [],
   "source": [
    "#data augmetation for train data  (with helmet)\n",
    "\n",
    "train_data_dir_list = os.listdir(train_dir_withHel)\n",
    "#train_data_dir_list\n",
    "\n",
    "for img in train_data_dir_list :\n",
    "    img_path = train_dir_withHel+\"/\"+img\n",
    "    img = load_img(img_path)\n",
    "    x = img_to_array(img) #this is the numpy array with shape (194,259,3)\n",
    "    x = x.reshape((1,)+x.shape) # shape(1,194,259,3)\n",
    "\n",
    "    # the .flow() command below generates batches of randomly transformed images \n",
    "    #and saves the results to the \"preview/\" directory\n",
    "    i=0\n",
    "    for batch in datagen.flow(x,batch_size=1,\n",
    "                             save_to_dir=final_train_dir_withHel,save_prefix = \"BikesHelmets\",save_format=\"jpeg\") :\n",
    "        i +=1\n",
    "        if i>20 :\n",
    "            break;\n"
   ]
  },
  {
   "cell_type": "code",
   "execution_count": 7,
   "metadata": {},
   "outputs": [],
   "source": [
    "#data augmetation for train data  (without helmet)\n",
    "\n",
    "train_data_dir_list = os.listdir(train_dir_withoutHel)\n",
    "#train_data_dir_list\n",
    "\n",
    "for img in train_data_dir_list :\n",
    "    img_path = train_dir_withoutHel+\"/\"+img\n",
    "    img = load_img(img_path)\n",
    "    x = img_to_array(img) #this is the numpy array with shape (194,259,3)\n",
    "    x = x.reshape((1,)+x.shape) # shape(1,194,259,3)\n",
    "\n",
    "    # the .flow() command below generates batches of randomly transformed images \n",
    "    #and saves the results to the \"preview/\" directory\n",
    "    i=0\n",
    "    for batch in datagen.flow(x,batch_size=1,\n",
    "                             save_to_dir=final_train_dir_withoutHel,save_prefix = \"BikesHelmets\",save_format=\"jpeg\") :\n",
    "        i +=1\n",
    "        if i>40 :\n",
    "            break;\n"
   ]
  },
  {
   "cell_type": "code",
   "execution_count": 8,
   "metadata": {},
   "outputs": [],
   "source": [
    "#data augmetation for test data  (with helmet)\n",
    "\n",
    "test_data_dir_list = os.listdir(test_dir_withHel)\n",
    "#test_data_dir_list\n",
    "\n",
    "for img in test_data_dir_list :\n",
    "    img_path = test_dir_withHel+\"/\"+img\n",
    "    img = load_img(img_path)\n",
    "    x = img_to_array(img) #this is the numpy array with shape (194,259,3)\n",
    "    x = x.reshape((1,)+x.shape) # shape(1,194,259,3)\n",
    "\n",
    "    # the .flow() command below generates batches of randomly transformed images \n",
    "    #and saves the results to the \"preview/\" directory\n",
    "    i=0\n",
    "    for batch in datagen.flow(x,batch_size=1,\n",
    "                             save_to_dir=final_test_dir_withHel,save_prefix = \"BikesHelmets\",save_format=\"jpeg\") :\n",
    "        i +=1\n",
    "        if i>25 :\n",
    "            break;\n"
   ]
  },
  {
   "cell_type": "code",
   "execution_count": 9,
   "metadata": {},
   "outputs": [],
   "source": [
    "#data augmetation for test data  (without helmet)\n",
    "\n",
    "test_data_dir_list = os.listdir(test_dir_withoutHel)\n",
    "#test_data_dir_list\n",
    "\n",
    "for img in test_data_dir_list :\n",
    "    img_path = test_dir_withoutHel+\"/\"+img\n",
    "    img = load_img(img_path)\n",
    "    x = img_to_array(img) #this is the numpy array with shape (194,259,3)\n",
    "    x = x.reshape((1,)+x.shape) # shape(1,194,259,3)\n",
    "\n",
    "    # the .flow() command below generates batches of randomly transformed images \n",
    "    #and saves the results to the \"preview/\" directory\n",
    "    i=0\n",
    "    for batch in datagen.flow(x,batch_size=1,\n",
    "                             save_to_dir=final_test_dir_withoutHel,save_prefix = \"BikesHelmets\",save_format=\"jpeg\") :\n",
    "        i +=1\n",
    "        if i>35 :\n",
    "            break;\n"
   ]
  },
  {
   "cell_type": "code",
   "execution_count": null,
   "metadata": {},
   "outputs": [],
   "source": []
  },
  {
   "cell_type": "code",
   "execution_count": null,
   "metadata": {},
   "outputs": [],
   "source": []
  },
  {
   "cell_type": "code",
   "execution_count": null,
   "metadata": {},
   "outputs": [],
   "source": []
  },
  {
   "cell_type": "code",
   "execution_count": null,
   "metadata": {},
   "outputs": [],
   "source": []
  },
  {
   "cell_type": "code",
   "execution_count": null,
   "metadata": {},
   "outputs": [],
   "source": []
  },
  {
   "cell_type": "code",
   "execution_count": null,
   "metadata": {},
   "outputs": [],
   "source": []
  },
  {
   "cell_type": "code",
   "execution_count": null,
   "metadata": {},
   "outputs": [],
   "source": []
  }
 ],
 "metadata": {
  "kernelspec": {
   "display_name": "Python 3",
   "language": "python",
   "name": "python3"
  },
  "language_info": {
   "codemirror_mode": {
    "name": "ipython",
    "version": 3
   },
   "file_extension": ".py",
   "mimetype": "text/x-python",
   "name": "python",
   "nbconvert_exporter": "python",
   "pygments_lexer": "ipython3",
   "version": "3.8.5"
  }
 },
 "nbformat": 4,
 "nbformat_minor": 4
}
